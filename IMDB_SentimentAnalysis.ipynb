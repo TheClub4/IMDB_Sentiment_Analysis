{
  "nbformat": 4,
  "nbformat_minor": 0,
  "metadata": {
    "colab": {
      "name": "Untitled0.ipynb",
      "provenance": [],
      "authorship_tag": "ABX9TyMOUpIKrkrLN9a6g6kJzZO/",
      "include_colab_link": true
    },
    "kernelspec": {
      "name": "python3",
      "display_name": "Python 3"
    }
  },
  "cells": [
    {
      "cell_type": "markdown",
      "metadata": {
        "id": "view-in-github",
        "colab_type": "text"
      },
      "source": [
        "<a href=\"https://colab.research.google.com/github/TheClub4/IMDB_Sentiment_Analysis/blob/master/IMDB_SentimentAnalysis.ipynb\" target=\"_parent\"><img src=\"https://colab.research.google.com/assets/colab-badge.svg\" alt=\"Open In Colab\"/></a>"
      ]
    },
    {
      "cell_type": "markdown",
      "metadata": {
        "id": "w7NZqJdaXP9L",
        "colab_type": "text"
      },
      "source": [
        "# <font color='greyblue'>Logistic Regression: A Sentimental Analysis Case Study</font>"
      ]
    },
    {
      "cell_type": "markdown",
      "metadata": {
        "id": "wURkyFEGoYXh",
        "colab_type": "text"
      },
      "source": [
        "## Task 1: Loading the dataset\n",
        "_______"
      ]
    },
    {
      "cell_type": "code",
      "metadata": {
        "id": "lSTcQZxvW23C",
        "colab_type": "code",
        "colab": {
          "base_uri": "https://localhost:8080/",
          "height": 359
        },
        "outputId": "d98637be-7545-45d1-cb14-59bd6f101025"
      },
      "source": [
        "import pandas as pd\n",
        "df = pd.read_csv('movie_data.csv')\n",
        "\n",
        "\n",
        "df.head(10)"
      ],
      "execution_count": 26,
      "outputs": [
        {
          "output_type": "execute_result",
          "data": {
            "text/html": [
              "<div>\n",
              "<style scoped>\n",
              "    .dataframe tbody tr th:only-of-type {\n",
              "        vertical-align: middle;\n",
              "    }\n",
              "\n",
              "    .dataframe tbody tr th {\n",
              "        vertical-align: top;\n",
              "    }\n",
              "\n",
              "    .dataframe thead th {\n",
              "        text-align: right;\n",
              "    }\n",
              "</style>\n",
              "<table border=\"1\" class=\"dataframe\">\n",
              "  <thead>\n",
              "    <tr style=\"text-align: right;\">\n",
              "      <th></th>\n",
              "      <th>text</th>\n",
              "      <th>sentiment</th>\n",
              "    </tr>\n",
              "  </thead>\n",
              "  <tbody>\n",
              "    <tr>\n",
              "      <th>0</th>\n",
              "      <td>For a movie that gets no respect there sure ar...</td>\n",
              "      <td>0</td>\n",
              "    </tr>\n",
              "    <tr>\n",
              "      <th>1</th>\n",
              "      <td>Bizarre horror movie filled with famous faces ...</td>\n",
              "      <td>0</td>\n",
              "    </tr>\n",
              "    <tr>\n",
              "      <th>2</th>\n",
              "      <td>A solid, if unremarkable film. Matthau, as Ein...</td>\n",
              "      <td>0</td>\n",
              "    </tr>\n",
              "    <tr>\n",
              "      <th>3</th>\n",
              "      <td>It's a strange feeling to sit alone in a theat...</td>\n",
              "      <td>0</td>\n",
              "    </tr>\n",
              "    <tr>\n",
              "      <th>4</th>\n",
              "      <td>You probably all already know this by now, but...</td>\n",
              "      <td>0</td>\n",
              "    </tr>\n",
              "    <tr>\n",
              "      <th>5</th>\n",
              "      <td>I saw the movie with two grown children. Altho...</td>\n",
              "      <td>0</td>\n",
              "    </tr>\n",
              "    <tr>\n",
              "      <th>6</th>\n",
              "      <td>You're using the IMDb.  You've given some heft...</td>\n",
              "      <td>0</td>\n",
              "    </tr>\n",
              "    <tr>\n",
              "      <th>7</th>\n",
              "      <td>This was a good film with a powerful message o...</td>\n",
              "      <td>0</td>\n",
              "    </tr>\n",
              "    <tr>\n",
              "      <th>8</th>\n",
              "      <td>Made after QUARTET was, TRIO continued the qua...</td>\n",
              "      <td>0</td>\n",
              "    </tr>\n",
              "    <tr>\n",
              "      <th>9</th>\n",
              "      <td>For a mature man, to admit that he shed a tear...</td>\n",
              "      <td>0</td>\n",
              "    </tr>\n",
              "  </tbody>\n",
              "</table>\n",
              "</div>"
            ],
            "text/plain": [
              "                                                text  sentiment\n",
              "0  For a movie that gets no respect there sure ar...          0\n",
              "1  Bizarre horror movie filled with famous faces ...          0\n",
              "2  A solid, if unremarkable film. Matthau, as Ein...          0\n",
              "3  It's a strange feeling to sit alone in a theat...          0\n",
              "4  You probably all already know this by now, but...          0\n",
              "5  I saw the movie with two grown children. Altho...          0\n",
              "6  You're using the IMDb.  You've given some heft...          0\n",
              "7  This was a good film with a powerful message o...          0\n",
              "8  Made after QUARTET was, TRIO continued the qua...          0\n",
              "9  For a mature man, to admit that he shed a tear...          0"
            ]
          },
          "metadata": {
            "tags": []
          },
          "execution_count": 26
        }
      ]
    },
    {
      "cell_type": "code",
      "metadata": {
        "id": "pu7SAZ6Woreq",
        "colab_type": "code",
        "colab": {
          "base_uri": "https://localhost:8080/",
          "height": 54
        },
        "outputId": "e585c577-b12b-43f7-84a8-c4caa705f5a1"
      },
      "source": [
        "df['text'][0]"
      ],
      "execution_count": 27,
      "outputs": [
        {
          "output_type": "execute_result",
          "data": {
            "text/plain": [
              "'For a movie that gets no respect there sure are a lot of memorable quotes listed for this gem. Imagine a movie where Joe Piscopo is actually funny! Maureen Stapleton is a scene stealer. The Moroni character is an absolute scream. Watch for Alan \"The Skipper\" Hale jr. as a police Sgt.'"
            ]
          },
          "metadata": {
            "tags": []
          },
          "execution_count": 27
        }
      ]
    },
    {
      "cell_type": "markdown",
      "metadata": {
        "id": "RKN8_z6evUhq",
        "colab_type": "text"
      },
      "source": [
        "# Task 2: Data Cleaning\n",
        "___"
      ]
    },
    {
      "cell_type": "code",
      "metadata": {
        "id": "h91jdeUYvbPi",
        "colab_type": "code",
        "colab": {}
      },
      "source": [
        "import re\n",
        "def preprocessor(text):\n",
        "  text =re.sub('<[^>]*>', '', text)\n",
        "  emoticons = re.findall('(?::|;|=)(?:-)?(?:\\)|\\(|D|P)', text)\n",
        "  text = re.sub('[\\W]+', ' ', text.lower()) + ' '.join(emoticons).replace('-', '')\n",
        "  \n",
        "  return text"
      ],
      "execution_count": 0,
      "outputs": []
    },
    {
      "cell_type": "code",
      "metadata": {
        "id": "spaAqRbJw7ux",
        "colab_type": "code",
        "colab": {
          "base_uri": "https://localhost:8080/",
          "height": 34
        },
        "outputId": "043e5d17-6df4-4d37-f132-f9bb1273abb1"
      },
      "source": [
        "preprocessor(\"This is a :) test :-( !\")"
      ],
      "execution_count": 20,
      "outputs": [
        {
          "output_type": "execute_result",
          "data": {
            "text/plain": [
              "'this is a test :) :('"
            ]
          },
          "metadata": {
            "tags": []
          },
          "execution_count": 20
        }
      ]
    },
    {
      "cell_type": "code",
      "metadata": {
        "id": "c-LvnQBvxKbo",
        "colab_type": "code",
        "colab": {}
      },
      "source": [
        "# preprocess train and test data respectively \n",
        "df['text'] = df['text'].apply(preprocessor)\n"
      ],
      "execution_count": 0,
      "outputs": []
    },
    {
      "cell_type": "markdown",
      "metadata": {
        "id": "_YqTI3Q1pKpg",
        "colab_type": "text"
      },
      "source": [
        "# Task 3: Tokenization\n",
        "___"
      ]
    },
    {
      "cell_type": "code",
      "metadata": {
        "id": "ZDcP3IOVreyV",
        "colab_type": "code",
        "colab": {}
      },
      "source": [
        "from nltk.stem.porter import PorterStemmer\n",
        "\n",
        "porter = PorterStemmer()"
      ],
      "execution_count": 0,
      "outputs": []
    },
    {
      "cell_type": "code",
      "metadata": {
        "id": "ENgJWKDvsIIg",
        "colab_type": "code",
        "colab": {}
      },
      "source": [
        "def tokenizer(text):\n",
        "  return text.split()"
      ],
      "execution_count": 0,
      "outputs": []
    },
    {
      "cell_type": "code",
      "metadata": {
        "id": "qfMt3HHEsOXx",
        "colab_type": "code",
        "colab": {}
      },
      "source": [
        "def tokenizer_stemmer(text):\n",
        "  return[porter.stem(word) for word in text.split()]"
      ],
      "execution_count": 0,
      "outputs": []
    },
    {
      "cell_type": "code",
      "metadata": {
        "id": "Ihnt5KLNtWhz",
        "colab_type": "code",
        "colab": {
          "base_uri": "https://localhost:8080/",
          "height": 34
        },
        "outputId": "fc2e4756-bd41-4f3b-8d94-75a743de3574"
      },
      "source": [
        "tokenizer('runners like running thus they run')"
      ],
      "execution_count": 10,
      "outputs": [
        {
          "output_type": "execute_result",
          "data": {
            "text/plain": [
              "['runners', 'like', 'running', 'thus', 'they', 'run']"
            ]
          },
          "metadata": {
            "tags": []
          },
          "execution_count": 10
        }
      ]
    },
    {
      "cell_type": "code",
      "metadata": {
        "id": "MGilfxPTtjkp",
        "colab_type": "code",
        "colab": {
          "base_uri": "https://localhost:8080/",
          "height": 34
        },
        "outputId": "7e8f162c-99b1-40e3-b22d-05af75dd8959"
      },
      "source": [
        "tokenizer_stemmer('runners like running thus they run')"
      ],
      "execution_count": 11,
      "outputs": [
        {
          "output_type": "execute_result",
          "data": {
            "text/plain": [
              "['runner', 'like', 'run', 'thu', 'they', 'run']"
            ]
          },
          "metadata": {
            "tags": []
          },
          "execution_count": 11
        }
      ]
    },
    {
      "cell_type": "code",
      "metadata": {
        "id": "DncACLVbs0rs",
        "colab_type": "code",
        "colab": {
          "base_uri": "https://localhost:8080/",
          "height": 68
        },
        "outputId": "a40be9e4-c0a0-4b5f-b9d8-d8020cb7bcf7"
      },
      "source": [
        "import nltk\n",
        "nltk.download('stopwords')"
      ],
      "execution_count": 12,
      "outputs": [
        {
          "output_type": "stream",
          "text": [
            "[nltk_data] Downloading package stopwords to /root/nltk_data...\n",
            "[nltk_data]   Package stopwords is already up-to-date!\n"
          ],
          "name": "stdout"
        },
        {
          "output_type": "execute_result",
          "data": {
            "text/plain": [
              "True"
            ]
          },
          "metadata": {
            "tags": []
          },
          "execution_count": 12
        }
      ]
    },
    {
      "cell_type": "code",
      "metadata": {
        "id": "SjaxqBMks9nb",
        "colab_type": "code",
        "colab": {
          "base_uri": "https://localhost:8080/",
          "height": 34
        },
        "outputId": "387230bb-31f0-4213-e2d8-b473e8e945a1"
      },
      "source": [
        "from nltk.corpus import stopwords\n",
        "\n",
        "stop = stopwords.words('english')\n",
        "[w for w in tokenizer_stemmer('runners like running thus they run') if w not in stop]"
      ],
      "execution_count": 13,
      "outputs": [
        {
          "output_type": "execute_result",
          "data": {
            "text/plain": [
              "['runner', 'like', 'run', 'thu', 'run']"
            ]
          },
          "metadata": {
            "tags": []
          },
          "execution_count": 13
        }
      ]
    },
    {
      "cell_type": "markdown",
      "metadata": {
        "id": "MrnlJZfnsmRB",
        "colab_type": "text"
      },
      "source": [
        "# Task 4: Transform Text Data into TF-IDF Vectors\n",
        "___"
      ]
    },
    {
      "cell_type": "code",
      "metadata": {
        "id": "kCx6sZ5bswOa",
        "colab_type": "code",
        "colab": {}
      },
      "source": [
        "from sklearn.feature_extraction.text import TfidfVectorizer\n",
        "\n",
        "tfidf = TfidfVectorizer(strip_accents=None,\n",
        "                         lowercase=True,\n",
        "                         preprocessor=None,  # applied preprocessor in Data Cleaning\n",
        "                         tokenizer=tokenizer_stemmer,\n",
        "                         use_idf=True,\n",
        "                         norm='l2',\n",
        "                         smooth_idf=True)\n",
        "\n",
        "y = df.sentiment.values\n",
        "X = tfidf.fit_transform(df.text)"
      ],
      "execution_count": 0,
      "outputs": []
    },
    {
      "cell_type": "markdown",
      "metadata": {
        "id": "hDqzZRSBxs3r",
        "colab_type": "text"
      },
      "source": [
        "# Task 5: Document Classification using Logistic Regression\n",
        "___"
      ]
    },
    {
      "cell_type": "code",
      "metadata": {
        "id": "0ebGfczNy2e9",
        "colab_type": "code",
        "colab": {}
      },
      "source": [
        "from sklearn.model_selection import train_test_split\n",
        "\n",
        "X_train, X_test, y_train, y_test = train_test_split(X, y, random_state=1, test_size=0.2, shuffle=False)"
      ],
      "execution_count": 0,
      "outputs": []
    },
    {
      "cell_type": "code",
      "metadata": {
        "id": "cSjj1ZbbxU0i",
        "colab_type": "code",
        "colab": {
          "base_uri": "https://localhost:8080/",
          "height": 51
        },
        "outputId": "e6c10758-1e4a-4192-c400-d3ba6962e713"
      },
      "source": [
        "import pickle\n",
        "from sklearn.linear_model import LogisticRegressionCV\n",
        "\n",
        "clf = LogisticRegressionCV(cv=5,\n",
        "                           scoring='accuracy',\n",
        "                           random_state=0,\n",
        "                           n_jobs=-1,\n",
        "                           verbose=3,\n",
        "                           max_iter=300).fit(X_train, y_train)"
      ],
      "execution_count": 31,
      "outputs": [
        {
          "output_type": "stream",
          "text": [
            "[Parallel(n_jobs=-1)]: Using backend LokyBackend with 2 concurrent workers.\n",
            "[Parallel(n_jobs=-1)]: Done   5 out of   5 | elapsed:  2.5min finished\n"
          ],
          "name": "stderr"
        }
      ]
    },
    {
      "cell_type": "code",
      "metadata": {
        "id": "XvyYKbsWznIY",
        "colab_type": "code",
        "colab": {}
      },
      "source": [
        "saved_model = open('saved_model.sav', 'wb')\n",
        "pickle.dump(clf, saved_model)\n",
        "saved_model.close()"
      ],
      "execution_count": 0,
      "outputs": []
    },
    {
      "cell_type": "markdown",
      "metadata": {
        "id": "4hRthxGO5hpF",
        "colab_type": "text"
      },
      "source": [
        "# Task 6: Model Evaluation\n",
        "___"
      ]
    },
    {
      "cell_type": "code",
      "metadata": {
        "id": "BUrG-Gni5gpW",
        "colab_type": "code",
        "colab": {}
      },
      "source": [
        "filename = 'saved_model.sav'\n",
        "saved_clf = pickle.load(open(filename, 'rb'))"
      ],
      "execution_count": 0,
      "outputs": []
    },
    {
      "cell_type": "code",
      "metadata": {
        "id": "mHTUMFL35yzH",
        "colab_type": "code",
        "colab": {
          "base_uri": "https://localhost:8080/",
          "height": 34
        },
        "outputId": "1d8d8f51-8d1d-4dbe-fde5-bf3c22fc9cd7"
      },
      "source": [
        "saved_clf.score(X_test, y_test)"
      ],
      "execution_count": 36,
      "outputs": [
        {
          "output_type": "execute_result",
          "data": {
            "text/plain": [
              "0.9448"
            ]
          },
          "metadata": {
            "tags": []
          },
          "execution_count": 36
        }
      ]
    },
    {
      "cell_type": "code",
      "metadata": {
        "id": "QxvcI1uJ50FW",
        "colab_type": "code",
        "colab": {}
      },
      "source": [
        ""
      ],
      "execution_count": 0,
      "outputs": []
    }
  ]
}