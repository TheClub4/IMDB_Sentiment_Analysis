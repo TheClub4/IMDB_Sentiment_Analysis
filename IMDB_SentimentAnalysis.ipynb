{
  "nbformat": 4,
  "nbformat_minor": 0,
  "metadata": {
    "colab": {
      "name": "IMDB_SentimentAnalysis.ipynb",
      "provenance": [],
      "authorship_tag": "ABX9TyNTvHFHZwn/tjm6aspOuY13",
      "include_colab_link": true
    },
    "kernelspec": {
      "name": "python3",
      "display_name": "Python 3"
    }
  },
  "cells": [
    {
      "cell_type": "markdown",
      "metadata": {
        "id": "view-in-github",
        "colab_type": "text"
      },
      "source": [
        "<a href=\"https://colab.research.google.com/github/TheClub4/IMDB_Sentiment_Analysis/blob/master/IMDB_SentimentAnalysis.ipynb\" target=\"_parent\"><img src=\"https://colab.research.google.com/assets/colab-badge.svg\" alt=\"Open In Colab\"/></a>"
      ]
    },
    {
      "cell_type": "markdown",
      "metadata": {
        "id": "w7NZqJdaXP9L",
        "colab_type": "text"
      },
      "source": [
        "# <font color='greyblue'>Logistic Regression: A Sentimental Analysis Case Study</font>"
      ]
    },
    {
      "cell_type": "markdown",
      "metadata": {
        "id": "wURkyFEGoYXh",
        "colab_type": "text"
      },
      "source": [
        "## Task 1: Loading the dataset\n",
        "_______"
      ]
    },
    {
      "cell_type": "code",
      "metadata": {
        "id": "lSTcQZxvW23C",
        "colab_type": "code",
        "outputId": "cf2933e9-cd1e-4562-9725-728a356a7b61",
        "colab": {
          "base_uri": "https://localhost:8080/",
          "height": 352
        }
      },
      "source": [
        "import pandas as pd\n",
        "df = pd.read_csv('movie_data.csv')\n",
        "\n",
        "\n",
        "df.head(10)"
      ],
      "execution_count": 0,
      "outputs": [
        {
          "output_type": "execute_result",
          "data": {
            "text/html": [
              "<div>\n",
              "<style scoped>\n",
              "    .dataframe tbody tr th:only-of-type {\n",
              "        vertical-align: middle;\n",
              "    }\n",
              "\n",
              "    .dataframe tbody tr th {\n",
              "        vertical-align: top;\n",
              "    }\n",
              "\n",
              "    .dataframe thead th {\n",
              "        text-align: right;\n",
              "    }\n",
              "</style>\n",
              "<table border=\"1\" class=\"dataframe\">\n",
              "  <thead>\n",
              "    <tr style=\"text-align: right;\">\n",
              "      <th></th>\n",
              "      <th>text</th>\n",
              "      <th>sentiment</th>\n",
              "    </tr>\n",
              "  </thead>\n",
              "  <tbody>\n",
              "    <tr>\n",
              "      <th>0</th>\n",
              "      <td>For a movie that gets no respect there sure ar...</td>\n",
              "      <td>0</td>\n",
              "    </tr>\n",
              "    <tr>\n",
              "      <th>1</th>\n",
              "      <td>Bizarre horror movie filled with famous faces ...</td>\n",
              "      <td>0</td>\n",
              "    </tr>\n",
              "    <tr>\n",
              "      <th>2</th>\n",
              "      <td>A solid, if unremarkable film. Matthau, as Ein...</td>\n",
              "      <td>0</td>\n",
              "    </tr>\n",
              "    <tr>\n",
              "      <th>3</th>\n",
              "      <td>It's a strange feeling to sit alone in a theat...</td>\n",
              "      <td>0</td>\n",
              "    </tr>\n",
              "    <tr>\n",
              "      <th>4</th>\n",
              "      <td>You probably all already know this by now, but...</td>\n",
              "      <td>0</td>\n",
              "    </tr>\n",
              "    <tr>\n",
              "      <th>5</th>\n",
              "      <td>I saw the movie with two grown children. Altho...</td>\n",
              "      <td>0</td>\n",
              "    </tr>\n",
              "    <tr>\n",
              "      <th>6</th>\n",
              "      <td>You're using the IMDb.  You've given some heft...</td>\n",
              "      <td>0</td>\n",
              "    </tr>\n",
              "    <tr>\n",
              "      <th>7</th>\n",
              "      <td>This was a good film with a powerful message o...</td>\n",
              "      <td>0</td>\n",
              "    </tr>\n",
              "    <tr>\n",
              "      <th>8</th>\n",
              "      <td>Made after QUARTET was, TRIO continued the qua...</td>\n",
              "      <td>0</td>\n",
              "    </tr>\n",
              "    <tr>\n",
              "      <th>9</th>\n",
              "      <td>For a mature man, to admit that he shed a tear...</td>\n",
              "      <td>0</td>\n",
              "    </tr>\n",
              "  </tbody>\n",
              "</table>\n",
              "</div>"
            ],
            "text/plain": [
              "                                                text  sentiment\n",
              "0  For a movie that gets no respect there sure ar...          0\n",
              "1  Bizarre horror movie filled with famous faces ...          0\n",
              "2  A solid, if unremarkable film. Matthau, as Ein...          0\n",
              "3  It's a strange feeling to sit alone in a theat...          0\n",
              "4  You probably all already know this by now, but...          0\n",
              "5  I saw the movie with two grown children. Altho...          0\n",
              "6  You're using the IMDb.  You've given some heft...          0\n",
              "7  This was a good film with a powerful message o...          0\n",
              "8  Made after QUARTET was, TRIO continued the qua...          0\n",
              "9  For a mature man, to admit that he shed a tear...          0"
            ]
          },
          "metadata": {
            "tags": []
          },
          "execution_count": 2
        }
      ]
    },
    {
      "cell_type": "code",
      "metadata": {
        "id": "pu7SAZ6Woreq",
        "colab_type": "code",
        "outputId": "4a959193-d29a-4f8c-b5e8-580936d618cd",
        "colab": {
          "base_uri": "https://localhost:8080/",
          "height": 52
        }
      },
      "source": [
        "df['text'][0]"
      ],
      "execution_count": 0,
      "outputs": [
        {
          "output_type": "execute_result",
          "data": {
            "text/plain": [
              "'For a movie that gets no respect there sure are a lot of memorable quotes listed for this gem. Imagine a movie where Joe Piscopo is actually funny! Maureen Stapleton is a scene stealer. The Moroni character is an absolute scream. Watch for Alan \"The Skipper\" Hale jr. as a police Sgt.'"
            ]
          },
          "metadata": {
            "tags": []
          },
          "execution_count": 3
        }
      ]
    },
    {
      "cell_type": "code",
      "metadata": {
        "id": "UCAVBJTrJevB",
        "colab_type": "code",
        "outputId": "bdad036e-9ace-42a5-ab0e-a7bc6a78f697",
        "colab": {
          "base_uri": "https://localhost:8080/",
          "height": 82
        }
      },
      "source": [
        "import numpy as np\n",
        "from sklearn.feature_extraction.text import CountVectorizer\n",
        "\n",
        "count = CountVectorizer()\n",
        "docs = (['The sun is shining',\n",
        "         'The weather is sweet',\n",
        "         'The sun is shining, the weather is sweet, and one and one is two'])\n",
        "bag = count.fit_transform(docs)\n",
        "\n",
        "print(count.vocabulary_)\n",
        "print(bag.toarray())"
      ],
      "execution_count": 0,
      "outputs": [
        {
          "output_type": "stream",
          "text": [
            "{'the': 6, 'sun': 4, 'is': 1, 'shining': 3, 'weather': 8, 'sweet': 5, 'and': 0, 'one': 2, 'two': 7}\n",
            "[[0 1 0 1 1 0 1 0 0]\n",
            " [0 1 0 0 0 1 1 0 1]\n",
            " [2 3 2 1 1 1 2 1 1]]\n"
          ],
          "name": "stdout"
        }
      ]
    },
    {
      "cell_type": "code",
      "metadata": {
        "id": "m7cV4D71OvaG",
        "colab_type": "code",
        "outputId": "7e862571-d001-4c6f-f97a-f88f26993ba7",
        "colab": {
          "base_uri": "https://localhost:8080/",
          "height": 65
        }
      },
      "source": [
        "from sklearn.feature_extraction.text import TfidfTransformer\n",
        "np.set_printoptions(precision=2)\n",
        "\n",
        "tfidf = TfidfTransformer(use_idf=True, norm='l2', smooth_idf=True)\n",
        "\n",
        "print(tfidf.fit_transform(bag).toarray())"
      ],
      "execution_count": 0,
      "outputs": [
        {
          "output_type": "stream",
          "text": [
            "[[0.   0.43 0.   0.56 0.56 0.   0.43 0.   0.  ]\n",
            " [0.   0.43 0.   0.   0.   0.56 0.43 0.   0.56]\n",
            " [0.5  0.45 0.5  0.19 0.19 0.19 0.3  0.25 0.19]]\n"
          ],
          "name": "stdout"
        }
      ]
    },
    {
      "cell_type": "markdown",
      "metadata": {
        "id": "RKN8_z6evUhq",
        "colab_type": "text"
      },
      "source": [
        "# Task 2: Data Cleaning\n",
        "___"
      ]
    },
    {
      "cell_type": "code",
      "metadata": {
        "id": "h91jdeUYvbPi",
        "colab_type": "code",
        "outputId": "27c9635c-d107-4385-a2d1-cbf8d40f852b",
        "colab": {
          "base_uri": "https://localhost:8080/",
          "height": 32
        }
      },
      "source": [
        "import re\n",
        "def preprocessor(text):\n",
        "  text =re.sub('<[^>]*>', '', text)\n",
        "  emoticons = re.findall('(?::|;|=)(?:-)?(?:\\)|\\(|D|P)', text)\n",
        "  text = re.sub('[\\W]+', ' ', text.lower()) + ' '.join(emoticons).replace('-', '')\n",
        "  \n",
        "  return text\n",
        "\n",
        "preprocessor(\"This is a :) test :-( !\")"
      ],
      "execution_count": 0,
      "outputs": [
        {
          "output_type": "execute_result",
          "data": {
            "text/plain": [
              "'this is a test :) :('"
            ]
          },
          "metadata": {
            "tags": []
          },
          "execution_count": 6
        }
      ]
    },
    {
      "cell_type": "code",
      "metadata": {
        "id": "c-LvnQBvxKbo",
        "colab_type": "code",
        "colab": {}
      },
      "source": [
        "# preprocess data\n",
        "df['text'] = df['text'].apply(preprocessor)"
      ],
      "execution_count": 0,
      "outputs": []
    },
    {
      "cell_type": "markdown",
      "metadata": {
        "id": "_YqTI3Q1pKpg",
        "colab_type": "text"
      },
      "source": [
        "# Task 3: Tokenization\n",
        "___"
      ]
    },
    {
      "cell_type": "code",
      "metadata": {
        "id": "ZDcP3IOVreyV",
        "colab_type": "code",
        "outputId": "84d2fb82-a8ac-4022-84d0-8fb77bb1fde7",
        "colab": {
          "base_uri": "https://localhost:8080/",
          "height": 32
        }
      },
      "source": [
        "from nltk.stem.porter import PorterStemmer\n",
        "\n",
        "porter = PorterStemmer()\n",
        "\n",
        "def tokenizer(text):\n",
        "  return text.split()\n",
        "\n",
        "def tokenizer_stemmer(text):\n",
        "  return[porter.stem(word) for word in text.split()]\n",
        "\n",
        "tokenizer('runners like running thus they run')"
      ],
      "execution_count": 0,
      "outputs": [
        {
          "output_type": "execute_result",
          "data": {
            "text/plain": [
              "['runners', 'like', 'running', 'thus', 'they', 'run']"
            ]
          },
          "metadata": {
            "tags": []
          },
          "execution_count": 9
        }
      ]
    },
    {
      "cell_type": "code",
      "metadata": {
        "id": "MGilfxPTtjkp",
        "colab_type": "code",
        "outputId": "00da539e-4b4f-45f0-e961-f99e195a5ba6",
        "colab": {
          "base_uri": "https://localhost:8080/",
          "height": 32
        }
      },
      "source": [
        "tokenizer_stemmer('runners like running thus they run')"
      ],
      "execution_count": 0,
      "outputs": [
        {
          "output_type": "execute_result",
          "data": {
            "text/plain": [
              "['runner', 'like', 'run', 'thu', 'they', 'run']"
            ]
          },
          "metadata": {
            "tags": []
          },
          "execution_count": 10
        }
      ]
    },
    {
      "cell_type": "code",
      "metadata": {
        "id": "DncACLVbs0rs",
        "colab_type": "code",
        "outputId": "34dc65dc-e22b-400a-cdf7-15606a7f17e6",
        "colab": {
          "base_uri": "https://localhost:8080/",
          "height": 65
        }
      },
      "source": [
        "import nltk\n",
        "nltk.download('stopwords')"
      ],
      "execution_count": 0,
      "outputs": [
        {
          "output_type": "stream",
          "text": [
            "[nltk_data] Downloading package stopwords to /root/nltk_data...\n",
            "[nltk_data]   Package stopwords is already up-to-date!\n"
          ],
          "name": "stdout"
        },
        {
          "output_type": "execute_result",
          "data": {
            "text/plain": [
              "True"
            ]
          },
          "metadata": {
            "tags": []
          },
          "execution_count": 11
        }
      ]
    },
    {
      "cell_type": "code",
      "metadata": {
        "id": "SjaxqBMks9nb",
        "colab_type": "code",
        "outputId": "b417b7b0-7229-4547-d27c-bf3135cc098a",
        "colab": {
          "base_uri": "https://localhost:8080/",
          "height": 32
        }
      },
      "source": [
        "from nltk.corpus import stopwords\n",
        "\n",
        "stop = stopwords.words('english')\n",
        "[w for w in tokenizer_stemmer('runners like running thus they run') if w not in stop]"
      ],
      "execution_count": 0,
      "outputs": [
        {
          "output_type": "execute_result",
          "data": {
            "text/plain": [
              "['runner', 'like', 'run', 'thu', 'run']"
            ]
          },
          "metadata": {
            "tags": []
          },
          "execution_count": 12
        }
      ]
    },
    {
      "cell_type": "markdown",
      "metadata": {
        "id": "MrnlJZfnsmRB",
        "colab_type": "text"
      },
      "source": [
        "# Task 4: Transform Text Data into TF-IDF Vectors\n",
        "___"
      ]
    },
    {
      "cell_type": "code",
      "metadata": {
        "id": "kCx6sZ5bswOa",
        "colab_type": "code",
        "colab": {}
      },
      "source": [
        "from sklearn.feature_extraction.text import TfidfVectorizer\n",
        "\n",
        "tfidf = TfidfVectorizer(strip_accents=None,\n",
        "                         lowercase=True,\n",
        "                         preprocessor=None,  # applied preprocessor in Data Cleaning\n",
        "                         tokenizer=tokenizer_stemmer,\n",
        "                         use_idf=True,\n",
        "                         norm='l2',\n",
        "                         smooth_idf=True)\n",
        "\n",
        "y = df.sentiment.values\n",
        "X = tfidf.fit_transform(df.text)"
      ],
      "execution_count": 0,
      "outputs": []
    },
    {
      "cell_type": "markdown",
      "metadata": {
        "id": "hDqzZRSBxs3r",
        "colab_type": "text"
      },
      "source": [
        "# Task 5: Document Classification using Logistic Regression\n",
        "___"
      ]
    },
    {
      "cell_type": "code",
      "metadata": {
        "id": "0ebGfczNy2e9",
        "colab_type": "code",
        "outputId": "9a57f9a5-a4cd-438b-b271-b0a04511498b",
        "colab": {
          "base_uri": "https://localhost:8080/",
          "height": 49
        }
      },
      "source": [
        "from sklearn.model_selection import train_test_split\n",
        "import pickle\n",
        "from sklearn.linear_model import LogisticRegressionCV\n",
        "\n",
        "\n",
        "X_train, X_test, y_train, y_test = train_test_split(X, y, random_state=1, test_size=0.2, shuffle=False)\n",
        "\n",
        "clf = LogisticRegressionCV(cv=5,\n",
        "                           scoring='accuracy',\n",
        "                           random_state=0,\n",
        "                           n_jobs=-1,\n",
        "                           verbose=3,\n",
        "                           max_iter=300).fit(X_train, y_train)"
      ],
      "execution_count": 0,
      "outputs": [
        {
          "output_type": "stream",
          "text": [
            "[Parallel(n_jobs=-1)]: Using backend LokyBackend with 2 concurrent workers.\n",
            "[Parallel(n_jobs=-1)]: Done   5 out of   5 | elapsed:  1.9min finished\n"
          ],
          "name": "stderr"
        }
      ]
    },
    {
      "cell_type": "code",
      "metadata": {
        "id": "XvyYKbsWznIY",
        "colab_type": "code",
        "colab": {}
      },
      "source": [
        "saved_model = open('saved_model.sav', 'wb')\n",
        "pickle.dump(clf, saved_model)\n",
        "saved_model.close()"
      ],
      "execution_count": 0,
      "outputs": []
    },
    {
      "cell_type": "markdown",
      "metadata": {
        "id": "4hRthxGO5hpF",
        "colab_type": "text"
      },
      "source": [
        "# Task 6: Model Evaluation\n",
        "___"
      ]
    },
    {
      "cell_type": "code",
      "metadata": {
        "id": "BUrG-Gni5gpW",
        "colab_type": "code",
        "colab": {}
      },
      "source": [
        "filename = 'saved_model.sav'\n",
        "saved_clf = pickle.load(open(filename, 'rb'))"
      ],
      "execution_count": 0,
      "outputs": []
    },
    {
      "cell_type": "code",
      "metadata": {
        "id": "mHTUMFL35yzH",
        "colab_type": "code",
        "outputId": "0519d9a4-8cff-467e-be07-10384c85d2bb",
        "colab": {
          "base_uri": "https://localhost:8080/",
          "height": 32
        }
      },
      "source": [
        "clf.score(X_test, y_test)"
      ],
      "execution_count": 0,
      "outputs": [
        {
          "output_type": "execute_result",
          "data": {
            "text/plain": [
              "0.8156"
            ]
          },
          "metadata": {
            "tags": []
          },
          "execution_count": 19
        }
      ]
    },
    {
      "cell_type": "code",
      "metadata": {
        "id": "QxvcI1uJ50FW",
        "colab_type": "code",
        "colab": {}
      },
      "source": [
        ""
      ],
      "execution_count": 0,
      "outputs": []
    }
  ]
}